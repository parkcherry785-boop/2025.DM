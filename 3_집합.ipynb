{
  "nbformat": 4,
  "nbformat_minor": 0,
  "metadata": {
    "colab": {
      "provenance": [],
      "authorship_tag": "ABX9TyMi8AFziFnNIj4yPS/lpzzq",
      "include_colab_link": true
    },
    "kernelspec": {
      "name": "python3",
      "display_name": "Python 3"
    },
    "language_info": {
      "name": "python"
    }
  },
  "cells": [
    {
      "cell_type": "markdown",
      "metadata": {
        "id": "view-in-github",
        "colab_type": "text"
      },
      "source": [
        "<a href=\"https://colab.research.google.com/github/parkcherry785-boop/2025.DM/blob/main/3_%EC%A7%91%ED%95%A9.ipynb\" target=\"_parent\"><img src=\"https://colab.research.google.com/assets/colab-badge.svg\" alt=\"Open In Colab\"/></a>"
      ]
    },
    {
      "cell_type": "code",
      "execution_count": null,
      "metadata": {
        "colab": {
          "base_uri": "https://localhost:8080/"
        },
        "id": "pWVyNdz30N8n",
        "outputId": "b7ff4782-57fe-492d-ec8c-d98ab8bf924c"
      },
      "outputs": [
        {
          "output_type": "stream",
          "name": "stdout",
          "text": [
            "Hello World!\n"
          ]
        }
      ],
      "source": [
        "print(\"Hello World!\")"
      ]
    },
    {
      "cell_type": "code",
      "source": [
        "s1=set([1, 2, 3])\n",
        "print(s1)\n",
        "s2=set([2, 3, 4])\n",
        "print(s2)\n",
        "\n",
        "print(s1 & s2)\n",
        "print(s1 | s2)\n",
        "print(s1 - s2)"
      ],
      "metadata": {
        "colab": {
          "base_uri": "https://localhost:8080/"
        },
        "id": "Xma5QMZr1G35",
        "outputId": "ac688279-eded-42ad-c800-4bf3b823ad9d"
      },
      "execution_count": null,
      "outputs": [
        {
          "output_type": "stream",
          "name": "stdout",
          "text": [
            "{1, 2, 3}\n",
            "{2, 3, 4}\n",
            "{2, 3}\n",
            "{1, 2, 3, 4}\n",
            "{1}\n"
          ]
        }
      ]
    },
    {
      "cell_type": "code",
      "source": [
        "bankA_customers = set([\"김철수\", \"이영희\", \"박민수\", \"최지우\"])\n",
        "bankB_customers = set([\"이영희\", \"최지우\", \"정우성\", \"한지민\"])\n",
        "\n",
        "print(\"은행 A 고객:\", bankA_customers)\n",
        "print(\"은행 B 고객:\", bankB_customers)\n",
        "\n",
        "total_customers = bankA_customers | bankB_customers\n",
        "print(\"합병 후 전체 고객:\", total_customers)\n",
        "\n",
        "common_customers = bankA_customers & bankB_customers\n",
        "print(\"공통고객:\", common_customers)\n",
        "\n",
        "only_A_customers = bankA_customers - bankB_customers\n",
        "print(\"A 은행에만 있는 고객:\", only_A_customers)\n",
        "\n",
        "only_B_customers = bankB_customers - bankA_customers\n",
        "print(\"B 은행에만 있는 고객:\", only_B_customers)"
      ],
      "metadata": {
        "colab": {
          "base_uri": "https://localhost:8080/"
        },
        "id": "XwjFD_yz2bp_",
        "outputId": "2bce882f-8f38-41ad-b0b7-4a10a8737650"
      },
      "execution_count": 5,
      "outputs": [
        {
          "output_type": "stream",
          "name": "stdout",
          "text": [
            "은행 A 고객: {'김철수', '최지우', '이영희', '박민수'}\n",
            "은행 B 고객: {'정우성', '최지우', '한지민', '이영희'}\n",
            "합병 후 전체 고객: {'정우성', '최지우', '이영희', '김철수', '한지민', '박민수'}\n",
            "공통고객: {'최지우', '이영희'}\n",
            "A 은행에만 있는 고객: {'김철수', '박민수'}\n",
            "B 은행에만 있는 고객: {'정우성', '한지민'}\n"
          ]
        }
      ]
    },
    {
      "cell_type": "code",
      "source": [
        "import numpy as np\n",
        "\n",
        "faver_castell_colors = {\n",
        "    \"white\": (255, 255, 255),\n",
        "    \"Black\": (0, 0, 0),\n",
        "    \"Brown\": (150, 75, 0),\n",
        "    \"Orange\": (255, 127, 0),\n",
        "    \"Red\": (255, 0, 0),\n",
        "    \"Yellow\": (255, 255, 0),\n",
        "    \"Light Green\": (0, 255, 0),\n",
        "    \"Green\": (0, 128, 0),\n",
        "    \"Light Blue\": (0, 255, 255),\n",
        "    \"Blue\": (0, 0, 255),\n",
        "    \"Purple\": (128, 0, 128),\n",
        "    \"Pink\": (255, 192, 203)\n",
        "}\n",
        "\n",
        "input_color = (120, 100, 200)\n",
        "\n",
        "def find_nearest_color(input_rgb, color_set):\n",
        "  min_dist = float('inf')\n",
        "  nearest_name = None\n",
        "  for name, rgb in color_set.items():\n",
        "    dist = np.sqrt(sum((a-b) ** 2 for a, b in zip(input_rgb, rgb)))\n",
        "    if dist < min_dist:\n",
        "      min_dist = dist\n",
        "      nearest_name = name\n",
        "  return nearest_name, color_set[nearest_name]\n",
        "\n",
        "nearest_name, nearest_rgb = find_nearest_color(input_color, faver_castell_colors)\n",
        "print(f\"입력 색상: {input_color}\")\n",
        "print(f\"가장 가까운 파버카스텔 색상: {nearest_name}, RGB: {nearest_rgb}\")"
      ],
      "metadata": {
        "colab": {
          "base_uri": "https://localhost:8080/"
        },
        "id": "0dxPHorn8MtI",
        "outputId": "13bcdff0-46bf-4f31-a465-b321976e8d77"
      },
      "execution_count": 4,
      "outputs": [
        {
          "output_type": "stream",
          "name": "stdout",
          "text": [
            "입력 색상: (120, 100, 200)\n",
            "가장 가까운 파버카스텔 색상: Purple, RGB: (128, 0, 128)\n"
          ]
        }
      ]
    }
  ]
}